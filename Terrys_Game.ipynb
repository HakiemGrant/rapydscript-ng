{
  "nbformat": 4,
  "nbformat_minor": 0,
  "metadata": {
    "colab": {
      "name": "Terrys_Game.ipynb",
      "provenance": [],
      "collapsed_sections": [],
      "include_colab_link": true
    },
    "kernelspec": {
      "name": "python3",
      "display_name": "Python 3"
    }
  },
  "cells": [
    {
      "cell_type": "markdown",
      "metadata": {
        "id": "view-in-github",
        "colab_type": "text"
      },
      "source": [
        "<a href=\"https://colab.research.google.com/github/HakiemGrant/rapydscript-ng/blob/master/Terrys_Game.ipynb\" target=\"_parent\"><img src=\"https://colab.research.google.com/assets/colab-badge.svg\" alt=\"Open In Colab\"/></a>"
      ]
    },
    {
      "cell_type": "code",
      "execution_count": 8,
      "metadata": {
        "colab": {
          "base_uri": "https://localhost:8080/"
        },
        "id": "XDV0z52w6bV5",
        "outputId": "4b7af3c7-025a-4e18-8609-15fb7bb91118"
      },
      "outputs": [
        {
          "output_type": "stream",
          "name": "stdout",
          "text": [
            "Guess a number between 1 and 100\n",
            "50\n",
            "Breaks\n",
            "Guess a number between 1 and 100\n",
            "25\n",
            "Didnt break\n",
            "Guess a number between 1 and 100\n",
            "305\n",
            "Breaks\n",
            "Guess a number between 1 and 100\n",
            "305\n",
            "Breaks\n",
            "Guess a number between 1 and 100\n",
            "35\n",
            "Didnt break\n",
            "Guess a number between 1 and 100\n",
            "40\n",
            "Didnt break\n",
            "Guess a number between 1 and 100\n",
            "45\n",
            "Didnt break\n",
            "Guess a number between 1 and 100\n",
            "46\n",
            "Didnt break\n",
            "Guess a number between 1 and 100\n",
            "47\n",
            "Done\n",
            "if you gussed less than 9 times you won, you guessed 9 times\n"
          ]
        }
      ],
      "source": [
        "import random\n",
        "num = random.randint(1, 100)\n",
        "count = 1\n",
        "while True: \n",
        "    print('Guess a number between 1 and 100')\n",
        "    guess = input()\n",
        "    i = int(guess)\n",
        "    if i == num:\n",
        "        print('Done')\n",
        "        break\n",
        "    elif i < num:\n",
        "               print('Didnt break')\n",
        "               count += 1\n",
        "    elif i > num:\n",
        "               print('Breaks')\n",
        "               count += 1\n",
        "\n",
        "print('if you gussed less than 9 times you won, you guessed', count, 'times')"
      ]
    }
  ]
}