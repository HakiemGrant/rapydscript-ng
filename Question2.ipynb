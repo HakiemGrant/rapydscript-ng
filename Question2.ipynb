{
  "nbformat": 4,
  "nbformat_minor": 0,
  "metadata": {
    "colab": {
      "name": "Question2.ipynb",
      "version": "0.3.2",
      "provenance": [],
      "collapsed_sections": [],
      "include_colab_link": true
    },
    "kernelspec": {
      "name": "python3",
      "display_name": "Python 3"
    }
  },
  "cells": [
    {
      "cell_type": "markdown",
      "metadata": {
        "id": "view-in-github",
        "colab_type": "text"
      },
      "source": [
        "<a href=\"https://colab.research.google.com/github/grantboy6396/rapydscript-ng/blob/master/Question2.ipynb\" target=\"_parent\"><img src=\"https://colab.research.google.com/assets/colab-badge.svg\" alt=\"Open In Colab\"/></a>"
      ]
    },
    {
      "cell_type": "code",
      "metadata": {
        "id": "bi2jdDn-cnmG",
        "colab_type": "code",
        "colab": {
          "base_uri": "https://localhost:8080/",
          "height": 293
        },
        "outputId": "0ad057e2-feb2-4259-9e1c-555998dae436"
      },
      "source": [
        "import math\n",
        "\n",
        "N = 10000\n",
        "a=3\n",
        "b=7\n",
        "c=13\n",
        "count=0\n",
        "num=0\n",
        "for num in range(0,N):\n",
        "   \n",
        "   if num % 3==0 or num%7==0 or num%13==0:\n",
        "       count+=1\n",
        "print(f\"There are {count} integers between 0 and {N} that are divisible by at least one of 3, 7, 13 \")\n",
        "   \n",
        "import matplotlib.pyplot as plt\n",
        "X = range(N)\n",
        "Y = [num**2 for num in X]\n",
        "plt.plot(X,Y)\n",
        "plt.show()          "
      ],
      "execution_count": 12,
      "outputs": [
        {
          "output_type": "stream",
          "text": [
            "There are 4726 integers between 0 and 10000 that are divisible by at least one of 3, 7, 13 \n"
          ],
          "name": "stdout"
        },
        {
          "output_type": "display_data",
          "data": {
            "image/png": "[encoded data removed]",
            "text/plain": [
              "<Figure size 432x288 with 1 Axes>"
            ]
          },
          "metadata": {
            "tags": []
          }
        }
      ]
    }
  ]
}